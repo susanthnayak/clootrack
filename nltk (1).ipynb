{
  "nbformat": 4,
  "nbformat_minor": 0,
  "metadata": {
    "colab": {
      "name": "nltk.ipynb",
      "provenance": []
    },
    "kernelspec": {
      "name": "python3",
      "display_name": "Python 3"
    },
    "language_info": {
      "name": "python"
    }
  },
  "cells": [
    {
      "cell_type": "markdown",
      "metadata": {
        "id": "-TlZk59vgOhO"
      },
      "source": [
        "Data Analysis"
      ]
    },
    {
      "cell_type": "markdown",
      "metadata": {
        "id": "NmHDgzIigbT_"
      },
      "source": [
        "Importing the necessary libraries"
      ]
    },
    {
      "cell_type": "code",
      "metadata": {
        "colab": {
          "base_uri": "https://localhost:8080/"
        },
        "id": "6Fw2M7wqgUJb",
        "outputId": "0bf0a00c-6402-4012-80b3-2a0453a2d58a"
      },
      "source": [
        "import pandas as pd\n",
        "import numpy as np\n",
        "import nltk\n",
        "nltk.download('stopwords')\n",
        "from nltk.corpus import stopwords"
      ],
      "execution_count": 1,
      "outputs": [
        {
          "output_type": "stream",
          "name": "stdout",
          "text": [
            "[nltk_data] Downloading package stopwords to /root/nltk_data...\n",
            "[nltk_data]   Unzipping corpora/stopwords.zip.\n"
          ]
        }
      ]
    },
    {
      "cell_type": "markdown",
      "metadata": {
        "id": "PdijZIWBhPB0"
      },
      "source": [
        "Loading the data set into pandas dataframe"
      ]
    },
    {
      "cell_type": "code",
      "metadata": {
        "id": "jaOlY8pxhBZy"
      },
      "source": [
        "data = pd.read_csv(\"/content/Data Analyst - Test Data - US.csv\")"
      ],
      "execution_count": 2,
      "outputs": []
    },
    {
      "cell_type": "code",
      "metadata": {
        "colab": {
          "base_uri": "https://localhost:8080/",
          "height": 204
        },
        "id": "a5K7h6wtha-S",
        "outputId": "b72d7381-354f-46aa-eefa-9b7608ff28e0"
      },
      "source": [
        "# first five rows\n",
        "data.head()"
      ],
      "execution_count": 3,
      "outputs": [
        {
          "output_type": "execute_result",
          "data": {
            "text/html": [
              "<div>\n",
              "<style scoped>\n",
              "    .dataframe tbody tr th:only-of-type {\n",
              "        vertical-align: middle;\n",
              "    }\n",
              "\n",
              "    .dataframe tbody tr th {\n",
              "        vertical-align: top;\n",
              "    }\n",
              "\n",
              "    .dataframe thead th {\n",
              "        text-align: right;\n",
              "    }\n",
              "</style>\n",
              "<table border=\"1\" class=\"dataframe\">\n",
              "  <thead>\n",
              "    <tr style=\"text-align: right;\">\n",
              "      <th></th>\n",
              "      <th>Review</th>\n",
              "      <th>date</th>\n",
              "      <th>Location</th>\n",
              "    </tr>\n",
              "  </thead>\n",
              "  <tbody>\n",
              "    <tr>\n",
              "      <th>0</th>\n",
              "      <td>I was very impressed with the resort.\\n Great ...</td>\n",
              "      <td>2019/08/20</td>\n",
              "      <td>Sebastian</td>\n",
              "    </tr>\n",
              "    <tr>\n",
              "      <th>1</th>\n",
              "      <td>The rooms were nice the outside needs work als...</td>\n",
              "      <td>2019/08/20</td>\n",
              "      <td>Los Angeles</td>\n",
              "    </tr>\n",
              "    <tr>\n",
              "      <th>2</th>\n",
              "      <td>Great location! I have stayed at this hotel on...</td>\n",
              "      <td>2019/08/20</td>\n",
              "      <td>Georgia</td>\n",
              "    </tr>\n",
              "    <tr>\n",
              "      <th>3</th>\n",
              "      <td>The hotel was adequate for my stay. The strips...</td>\n",
              "      <td>2019/08/20</td>\n",
              "      <td>NaN</td>\n",
              "    </tr>\n",
              "    <tr>\n",
              "      <th>4</th>\n",
              "      <td>Great location, room was large and spacious. P...</td>\n",
              "      <td>2019/08/19</td>\n",
              "      <td>Palm Harbor</td>\n",
              "    </tr>\n",
              "  </tbody>\n",
              "</table>\n",
              "</div>"
            ],
            "text/plain": [
              "                                              Review        date     Location\n",
              "0  I was very impressed with the resort.\\n Great ...  2019/08/20    Sebastian\n",
              "1  The rooms were nice the outside needs work als...  2019/08/20  Los Angeles\n",
              "2  Great location! I have stayed at this hotel on...  2019/08/20      Georgia\n",
              "3  The hotel was adequate for my stay. The strips...  2019/08/20          NaN\n",
              "4  Great location, room was large and spacious. P...  2019/08/19  Palm Harbor"
            ]
          },
          "metadata": {},
          "execution_count": 3
        }
      ]
    },
    {
      "cell_type": "code",
      "metadata": {
        "colab": {
          "base_uri": "https://localhost:8080/"
        },
        "id": "DT3i5wjbhhw-",
        "outputId": "367944a4-5e7c-4818-af3a-13ab8bf39e6a"
      },
      "source": [
        "# Rows and columns of the data set\n",
        "data.shape"
      ],
      "execution_count": 4,
      "outputs": [
        {
          "output_type": "execute_result",
          "data": {
            "text/plain": [
              "(6448, 3)"
            ]
          },
          "metadata": {},
          "execution_count": 4
        }
      ]
    },
    {
      "cell_type": "code",
      "metadata": {
        "colab": {
          "base_uri": "https://localhost:8080/"
        },
        "id": "h72ZG3zRhryh",
        "outputId": "74e327fc-77ea-4057-dccf-780262b65c9c"
      },
      "source": [
        "# checkiing the data types \n",
        "data.dtypes"
      ],
      "execution_count": 5,
      "outputs": [
        {
          "output_type": "execute_result",
          "data": {
            "text/plain": [
              "Review      object\n",
              "date        object\n",
              "Location    object\n",
              "dtype: object"
            ]
          },
          "metadata": {},
          "execution_count": 5
        }
      ]
    },
    {
      "cell_type": "markdown",
      "metadata": {
        "id": "LuNEwbtziONX"
      },
      "source": [
        "All the columns are of object data type"
      ]
    },
    {
      "cell_type": "markdown",
      "metadata": {
        "id": "hgkDfDaWijMr"
      },
      "source": [
        "Checking the missing values in the data set"
      ]
    },
    {
      "cell_type": "code",
      "metadata": {
        "colab": {
          "base_uri": "https://localhost:8080/"
        },
        "id": "AqKfRIaViKxs",
        "outputId": "549caa6d-430a-49df-d4ca-3071c8c15169"
      },
      "source": [
        "data.isnull().sum()"
      ],
      "execution_count": 6,
      "outputs": [
        {
          "output_type": "execute_result",
          "data": {
            "text/plain": [
              "Review        55\n",
              "date           0\n",
              "Location    4737\n",
              "dtype: int64"
            ]
          },
          "metadata": {},
          "execution_count": 6
        }
      ]
    },
    {
      "cell_type": "markdown",
      "metadata": {
        "id": "czT9eSH6iw9v"
      },
      "source": [
        "Review column has 55 null values and Location has 4737 null values"
      ]
    },
    {
      "cell_type": "markdown",
      "metadata": {
        "id": "NmqIzqi6jCF9"
      },
      "source": [
        "Dropping all the null values from the columns"
      ]
    },
    {
      "cell_type": "code",
      "metadata": {
        "id": "g7bwlo6zisjI"
      },
      "source": [
        "data.dropna(inplace=True)"
      ],
      "execution_count": 7,
      "outputs": []
    },
    {
      "cell_type": "code",
      "metadata": {
        "colab": {
          "base_uri": "https://localhost:8080/"
        },
        "id": "x7xPAUI2jRk9",
        "outputId": "9961a39a-5a14-4070-8a82-37496587820f"
      },
      "source": [
        "data.isnull().sum()"
      ],
      "execution_count": 8,
      "outputs": [
        {
          "output_type": "execute_result",
          "data": {
            "text/plain": [
              "Review      0\n",
              "date        0\n",
              "Location    0\n",
              "dtype: int64"
            ]
          },
          "metadata": {},
          "execution_count": 8
        }
      ]
    },
    {
      "cell_type": "markdown",
      "metadata": {
        "id": "2S-Dvr3njWBn"
      },
      "source": [
        "All the null values are dropped"
      ]
    },
    {
      "cell_type": "markdown",
      "metadata": {
        "id": "j-WYQ-OljqsW"
      },
      "source": [
        "Dropping Date and Location columns"
      ]
    },
    {
      "cell_type": "code",
      "metadata": {
        "id": "VTwlpwmqjU24"
      },
      "source": [
        "data.drop(columns=[\"date\",\"Location\"],axis=1,inplace=True)"
      ],
      "execution_count": 11,
      "outputs": []
    },
    {
      "cell_type": "code",
      "metadata": {
        "colab": {
          "base_uri": "https://localhost:8080/",
          "height": 204
        },
        "id": "9jHrfLnGjieJ",
        "outputId": "05c3fa1f-fb29-4500-ad4f-5518749fbd31"
      },
      "source": [
        "data.head()"
      ],
      "execution_count": 12,
      "outputs": [
        {
          "output_type": "execute_result",
          "data": {
            "text/html": [
              "<div>\n",
              "<style scoped>\n",
              "    .dataframe tbody tr th:only-of-type {\n",
              "        vertical-align: middle;\n",
              "    }\n",
              "\n",
              "    .dataframe tbody tr th {\n",
              "        vertical-align: top;\n",
              "    }\n",
              "\n",
              "    .dataframe thead th {\n",
              "        text-align: right;\n",
              "    }\n",
              "</style>\n",
              "<table border=\"1\" class=\"dataframe\">\n",
              "  <thead>\n",
              "    <tr style=\"text-align: right;\">\n",
              "      <th></th>\n",
              "      <th>Review</th>\n",
              "    </tr>\n",
              "  </thead>\n",
              "  <tbody>\n",
              "    <tr>\n",
              "      <th>0</th>\n",
              "      <td>I was very impressed with the resort.\\n Great ...</td>\n",
              "    </tr>\n",
              "    <tr>\n",
              "      <th>1</th>\n",
              "      <td>The rooms were nice the outside needs work als...</td>\n",
              "    </tr>\n",
              "    <tr>\n",
              "      <th>2</th>\n",
              "      <td>Great location! I have stayed at this hotel on...</td>\n",
              "    </tr>\n",
              "    <tr>\n",
              "      <th>4</th>\n",
              "      <td>Great location, room was large and spacious. P...</td>\n",
              "    </tr>\n",
              "    <tr>\n",
              "      <th>10</th>\n",
              "      <td>Very clean and friendly and I love the locatio...</td>\n",
              "    </tr>\n",
              "  </tbody>\n",
              "</table>\n",
              "</div>"
            ],
            "text/plain": [
              "                                               Review\n",
              "0   I was very impressed with the resort.\\n Great ...\n",
              "1   The rooms were nice the outside needs work als...\n",
              "2   Great location! I have stayed at this hotel on...\n",
              "4   Great location, room was large and spacious. P...\n",
              "10  Very clean and friendly and I love the locatio..."
            ]
          },
          "metadata": {},
          "execution_count": 12
        }
      ]
    },
    {
      "cell_type": "markdown",
      "metadata": {
        "id": "F2WfRfqFkTNq"
      },
      "source": [
        "Converting from object to string data type"
      ]
    },
    {
      "cell_type": "code",
      "metadata": {
        "id": "R-kUSN9pj_yT"
      },
      "source": [
        "data[\"Review\"]=data['Review'].astype(str)"
      ],
      "execution_count": 15,
      "outputs": []
    },
    {
      "cell_type": "markdown",
      "metadata": {
        "id": "Hw74ujhvkpyO"
      },
      "source": [
        "word_count : how many words are there in each Review"
      ]
    },
    {
      "cell_type": "code",
      "metadata": {
        "id": "8kSYumo_ka8_"
      },
      "source": [
        "data[\"word_count\"]=data[\"Review\"].apply(lambda x: len(x.split()))"
      ],
      "execution_count": 16,
      "outputs": []
    },
    {
      "cell_type": "code",
      "metadata": {
        "colab": {
          "base_uri": "https://localhost:8080/",
          "height": 204
        },
        "id": "fqgX6Hhvk-A0",
        "outputId": "86a1be5b-dd10-487e-8755-6a2be2812e2a"
      },
      "source": [
        "data.head()"
      ],
      "execution_count": 17,
      "outputs": [
        {
          "output_type": "execute_result",
          "data": {
            "text/html": [
              "<div>\n",
              "<style scoped>\n",
              "    .dataframe tbody tr th:only-of-type {\n",
              "        vertical-align: middle;\n",
              "    }\n",
              "\n",
              "    .dataframe tbody tr th {\n",
              "        vertical-align: top;\n",
              "    }\n",
              "\n",
              "    .dataframe thead th {\n",
              "        text-align: right;\n",
              "    }\n",
              "</style>\n",
              "<table border=\"1\" class=\"dataframe\">\n",
              "  <thead>\n",
              "    <tr style=\"text-align: right;\">\n",
              "      <th></th>\n",
              "      <th>Review</th>\n",
              "      <th>word_count</th>\n",
              "    </tr>\n",
              "  </thead>\n",
              "  <tbody>\n",
              "    <tr>\n",
              "      <th>0</th>\n",
              "      <td>I was very impressed with the resort.\\n Great ...</td>\n",
              "      <td>33</td>\n",
              "    </tr>\n",
              "    <tr>\n",
              "      <th>1</th>\n",
              "      <td>The rooms were nice the outside needs work als...</td>\n",
              "      <td>25</td>\n",
              "    </tr>\n",
              "    <tr>\n",
              "      <th>2</th>\n",
              "      <td>Great location! I have stayed at this hotel on...</td>\n",
              "      <td>20</td>\n",
              "    </tr>\n",
              "    <tr>\n",
              "      <th>4</th>\n",
              "      <td>Great location, room was large and spacious. P...</td>\n",
              "      <td>20</td>\n",
              "    </tr>\n",
              "    <tr>\n",
              "      <th>10</th>\n",
              "      <td>Very clean and friendly and I love the locatio...</td>\n",
              "      <td>40</td>\n",
              "    </tr>\n",
              "  </tbody>\n",
              "</table>\n",
              "</div>"
            ],
            "text/plain": [
              "                                               Review  word_count\n",
              "0   I was very impressed with the resort.\\n Great ...          33\n",
              "1   The rooms were nice the outside needs work als...          25\n",
              "2   Great location! I have stayed at this hotel on...          20\n",
              "4   Great location, room was large and spacious. P...          20\n",
              "10  Very clean and friendly and I love the locatio...          40"
            ]
          },
          "metadata": {},
          "execution_count": 17
        }
      ]
    },
    {
      "cell_type": "markdown",
      "metadata": {
        "id": "TG-IhjaWlFVW"
      },
      "source": [
        "character count :how many characters are there in each review"
      ]
    },
    {
      "cell_type": "code",
      "metadata": {
        "id": "V6aUABF_lBim"
      },
      "source": [
        "data[\"char_count\"]=data[\"Review\"].apply(lambda x:len(x))"
      ],
      "execution_count": 18,
      "outputs": []
    },
    {
      "cell_type": "code",
      "metadata": {
        "colab": {
          "base_uri": "https://localhost:8080/",
          "height": 204
        },
        "id": "19yZK-puldER",
        "outputId": "64919f8f-b7fa-486c-9502-f9f45af01282"
      },
      "source": [
        "data.head()"
      ],
      "execution_count": 19,
      "outputs": [
        {
          "output_type": "execute_result",
          "data": {
            "text/html": [
              "<div>\n",
              "<style scoped>\n",
              "    .dataframe tbody tr th:only-of-type {\n",
              "        vertical-align: middle;\n",
              "    }\n",
              "\n",
              "    .dataframe tbody tr th {\n",
              "        vertical-align: top;\n",
              "    }\n",
              "\n",
              "    .dataframe thead th {\n",
              "        text-align: right;\n",
              "    }\n",
              "</style>\n",
              "<table border=\"1\" class=\"dataframe\">\n",
              "  <thead>\n",
              "    <tr style=\"text-align: right;\">\n",
              "      <th></th>\n",
              "      <th>Review</th>\n",
              "      <th>word_count</th>\n",
              "      <th>char_count</th>\n",
              "    </tr>\n",
              "  </thead>\n",
              "  <tbody>\n",
              "    <tr>\n",
              "      <th>0</th>\n",
              "      <td>I was very impressed with the resort.\\n Great ...</td>\n",
              "      <td>33</td>\n",
              "      <td>196</td>\n",
              "    </tr>\n",
              "    <tr>\n",
              "      <th>1</th>\n",
              "      <td>The rooms were nice the outside needs work als...</td>\n",
              "      <td>25</td>\n",
              "      <td>134</td>\n",
              "    </tr>\n",
              "    <tr>\n",
              "      <th>2</th>\n",
              "      <td>Great location! I have stayed at this hotel on...</td>\n",
              "      <td>20</td>\n",
              "      <td>106</td>\n",
              "    </tr>\n",
              "    <tr>\n",
              "      <th>4</th>\n",
              "      <td>Great location, room was large and spacious. P...</td>\n",
              "      <td>20</td>\n",
              "      <td>126</td>\n",
              "    </tr>\n",
              "    <tr>\n",
              "      <th>10</th>\n",
              "      <td>Very clean and friendly and I love the locatio...</td>\n",
              "      <td>40</td>\n",
              "      <td>238</td>\n",
              "    </tr>\n",
              "  </tbody>\n",
              "</table>\n",
              "</div>"
            ],
            "text/plain": [
              "                                               Review  word_count  char_count\n",
              "0   I was very impressed with the resort.\\n Great ...          33         196\n",
              "1   The rooms were nice the outside needs work als...          25         134\n",
              "2   Great location! I have stayed at this hotel on...          20         106\n",
              "4   Great location, room was large and spacious. P...          20         126\n",
              "10  Very clean and friendly and I love the locatio...          40         238"
            ]
          },
          "metadata": {},
          "execution_count": 19
        }
      ]
    },
    {
      "cell_type": "markdown",
      "metadata": {
        "id": "nR4RhSyDlk9d"
      },
      "source": [
        "Finding the average words in each of the Review"
      ]
    },
    {
      "cell_type": "code",
      "metadata": {
        "id": "YNzrWxMhle6a"
      },
      "source": [
        "def average_words(x):      # function to find the avarage words\n",
        "  words=x.split()\n",
        "  return sum(len(word) for word in words)/len(words)"
      ],
      "execution_count": 20,
      "outputs": []
    },
    {
      "cell_type": "code",
      "metadata": {
        "id": "fNCLh3UZl5HM"
      },
      "source": [
        "data[\"average_wordcount\"]=data[\"Review\"].apply(lambda x:average_words(x))"
      ],
      "execution_count": 21,
      "outputs": []
    },
    {
      "cell_type": "code",
      "metadata": {
        "colab": {
          "base_uri": "https://localhost:8080/",
          "height": 204
        },
        "id": "cOk1ibs2l_Ey",
        "outputId": "74fa37b9-8c34-4a33-8d2e-7fb6703febda"
      },
      "source": [
        "data.head()"
      ],
      "execution_count": 22,
      "outputs": [
        {
          "output_type": "execute_result",
          "data": {
            "text/html": [
              "<div>\n",
              "<style scoped>\n",
              "    .dataframe tbody tr th:only-of-type {\n",
              "        vertical-align: middle;\n",
              "    }\n",
              "\n",
              "    .dataframe tbody tr th {\n",
              "        vertical-align: top;\n",
              "    }\n",
              "\n",
              "    .dataframe thead th {\n",
              "        text-align: right;\n",
              "    }\n",
              "</style>\n",
              "<table border=\"1\" class=\"dataframe\">\n",
              "  <thead>\n",
              "    <tr style=\"text-align: right;\">\n",
              "      <th></th>\n",
              "      <th>Review</th>\n",
              "      <th>word_count</th>\n",
              "      <th>char_count</th>\n",
              "      <th>average_wordcount</th>\n",
              "    </tr>\n",
              "  </thead>\n",
              "  <tbody>\n",
              "    <tr>\n",
              "      <th>0</th>\n",
              "      <td>I was very impressed with the resort.\\n Great ...</td>\n",
              "      <td>33</td>\n",
              "      <td>196</td>\n",
              "      <td>4.69697</td>\n",
              "    </tr>\n",
              "    <tr>\n",
              "      <th>1</th>\n",
              "      <td>The rooms were nice the outside needs work als...</td>\n",
              "      <td>25</td>\n",
              "      <td>134</td>\n",
              "      <td>4.12000</td>\n",
              "    </tr>\n",
              "    <tr>\n",
              "      <th>2</th>\n",
              "      <td>Great location! I have stayed at this hotel on...</td>\n",
              "      <td>20</td>\n",
              "      <td>106</td>\n",
              "      <td>4.00000</td>\n",
              "    </tr>\n",
              "    <tr>\n",
              "      <th>4</th>\n",
              "      <td>Great location, room was large and spacious. P...</td>\n",
              "      <td>20</td>\n",
              "      <td>126</td>\n",
              "      <td>5.00000</td>\n",
              "    </tr>\n",
              "    <tr>\n",
              "      <th>10</th>\n",
              "      <td>Very clean and friendly and I love the locatio...</td>\n",
              "      <td>40</td>\n",
              "      <td>238</td>\n",
              "      <td>4.80000</td>\n",
              "    </tr>\n",
              "  </tbody>\n",
              "</table>\n",
              "</div>"
            ],
            "text/plain": [
              "                                               Review  ...  average_wordcount\n",
              "0   I was very impressed with the resort.\\n Great ...  ...            4.69697\n",
              "1   The rooms were nice the outside needs work als...  ...            4.12000\n",
              "2   Great location! I have stayed at this hotel on...  ...            4.00000\n",
              "4   Great location, room was large and spacious. P...  ...            5.00000\n",
              "10  Very clean and friendly and I love the locatio...  ...            4.80000\n",
              "\n",
              "[5 rows x 4 columns]"
            ]
          },
          "metadata": {},
          "execution_count": 22
        }
      ]
    },
    {
      "cell_type": "markdown",
      "metadata": {
        "id": "54QSQn4BmQTd"
      },
      "source": [
        "Finding out the stop words "
      ]
    },
    {
      "cell_type": "code",
      "metadata": {
        "colab": {
          "base_uri": "https://localhost:8080/"
        },
        "id": "ar9QZBSAmAxy",
        "outputId": "9320e147-2d46-47a5-fd26-087a7c9aceec"
      },
      "source": [
        "stop_words=stopwords.words(\"english\")\n",
        "len(stop_words)"
      ],
      "execution_count": 23,
      "outputs": [
        {
          "output_type": "execute_result",
          "data": {
            "text/plain": [
              "179"
            ]
          },
          "metadata": {},
          "execution_count": 23
        }
      ]
    },
    {
      "cell_type": "code",
      "metadata": {
        "id": "HH3wbfCdmcaq"
      },
      "source": [
        "data[\"stopword_count\"] = data['Review'].apply(lambda x:len([word for word in x.split() if word.lower() in stop_words]))"
      ],
      "execution_count": 24,
      "outputs": []
    },
    {
      "cell_type": "code",
      "metadata": {
        "colab": {
          "base_uri": "https://localhost:8080/",
          "height": 204
        },
        "id": "4umdZYo1mmc8",
        "outputId": "b84b2d52-4b74-404b-d7f8-8a49e177a0fc"
      },
      "source": [
        "data.head()"
      ],
      "execution_count": 25,
      "outputs": [
        {
          "output_type": "execute_result",
          "data": {
            "text/html": [
              "<div>\n",
              "<style scoped>\n",
              "    .dataframe tbody tr th:only-of-type {\n",
              "        vertical-align: middle;\n",
              "    }\n",
              "\n",
              "    .dataframe tbody tr th {\n",
              "        vertical-align: top;\n",
              "    }\n",
              "\n",
              "    .dataframe thead th {\n",
              "        text-align: right;\n",
              "    }\n",
              "</style>\n",
              "<table border=\"1\" class=\"dataframe\">\n",
              "  <thead>\n",
              "    <tr style=\"text-align: right;\">\n",
              "      <th></th>\n",
              "      <th>Review</th>\n",
              "      <th>word_count</th>\n",
              "      <th>char_count</th>\n",
              "      <th>average_wordcount</th>\n",
              "      <th>stopword_count</th>\n",
              "    </tr>\n",
              "  </thead>\n",
              "  <tbody>\n",
              "    <tr>\n",
              "      <th>0</th>\n",
              "      <td>I was very impressed with the resort.\\n Great ...</td>\n",
              "      <td>33</td>\n",
              "      <td>196</td>\n",
              "      <td>4.69697</td>\n",
              "      <td>14</td>\n",
              "    </tr>\n",
              "    <tr>\n",
              "      <th>1</th>\n",
              "      <td>The rooms were nice the outside needs work als...</td>\n",
              "      <td>25</td>\n",
              "      <td>134</td>\n",
              "      <td>4.12000</td>\n",
              "      <td>10</td>\n",
              "    </tr>\n",
              "    <tr>\n",
              "      <th>2</th>\n",
              "      <td>Great location! I have stayed at this hotel on...</td>\n",
              "      <td>20</td>\n",
              "      <td>106</td>\n",
              "      <td>4.00000</td>\n",
              "      <td>8</td>\n",
              "    </tr>\n",
              "    <tr>\n",
              "      <th>4</th>\n",
              "      <td>Great location, room was large and spacious. P...</td>\n",
              "      <td>20</td>\n",
              "      <td>126</td>\n",
              "      <td>5.00000</td>\n",
              "      <td>7</td>\n",
              "    </tr>\n",
              "    <tr>\n",
              "      <th>10</th>\n",
              "      <td>Very clean and friendly and I love the locatio...</td>\n",
              "      <td>40</td>\n",
              "      <td>238</td>\n",
              "      <td>4.80000</td>\n",
              "      <td>19</td>\n",
              "    </tr>\n",
              "  </tbody>\n",
              "</table>\n",
              "</div>"
            ],
            "text/plain": [
              "                                               Review  ...  stopword_count\n",
              "0   I was very impressed with the resort.\\n Great ...  ...              14\n",
              "1   The rooms were nice the outside needs work als...  ...              10\n",
              "2   Great location! I have stayed at this hotel on...  ...               8\n",
              "4   Great location, room was large and spacious. P...  ...               7\n",
              "10  Very clean and friendly and I love the locatio...  ...              19\n",
              "\n",
              "[5 rows x 5 columns]"
            ]
          },
          "metadata": {},
          "execution_count": 25
        }
      ]
    },
    {
      "cell_type": "markdown",
      "metadata": {
        "id": "iNWT3tesmwzR"
      },
      "source": [
        "stopword_rate:percentage of stop word to non stop word"
      ]
    },
    {
      "cell_type": "code",
      "metadata": {
        "id": "zLys8UhMmpGL"
      },
      "source": [
        "data['stopword_rate'] = data[\"stopword_count\"]/data[\"word_count\"]"
      ],
      "execution_count": 27,
      "outputs": []
    },
    {
      "cell_type": "code",
      "metadata": {
        "colab": {
          "base_uri": "https://localhost:8080/",
          "height": 204
        },
        "id": "W1axfL69m8Ub",
        "outputId": "ea84767a-30da-4273-bef4-44fe63e81713"
      },
      "source": [
        "data.head()"
      ],
      "execution_count": 28,
      "outputs": [
        {
          "output_type": "execute_result",
          "data": {
            "text/html": [
              "<div>\n",
              "<style scoped>\n",
              "    .dataframe tbody tr th:only-of-type {\n",
              "        vertical-align: middle;\n",
              "    }\n",
              "\n",
              "    .dataframe tbody tr th {\n",
              "        vertical-align: top;\n",
              "    }\n",
              "\n",
              "    .dataframe thead th {\n",
              "        text-align: right;\n",
              "    }\n",
              "</style>\n",
              "<table border=\"1\" class=\"dataframe\">\n",
              "  <thead>\n",
              "    <tr style=\"text-align: right;\">\n",
              "      <th></th>\n",
              "      <th>Review</th>\n",
              "      <th>word_count</th>\n",
              "      <th>char_count</th>\n",
              "      <th>average_wordcount</th>\n",
              "      <th>stopword_count</th>\n",
              "      <th>stopword_rate</th>\n",
              "    </tr>\n",
              "  </thead>\n",
              "  <tbody>\n",
              "    <tr>\n",
              "      <th>0</th>\n",
              "      <td>I was very impressed with the resort.\\n Great ...</td>\n",
              "      <td>33</td>\n",
              "      <td>196</td>\n",
              "      <td>4.69697</td>\n",
              "      <td>14</td>\n",
              "      <td>0.424242</td>\n",
              "    </tr>\n",
              "    <tr>\n",
              "      <th>1</th>\n",
              "      <td>The rooms were nice the outside needs work als...</td>\n",
              "      <td>25</td>\n",
              "      <td>134</td>\n",
              "      <td>4.12000</td>\n",
              "      <td>10</td>\n",
              "      <td>0.400000</td>\n",
              "    </tr>\n",
              "    <tr>\n",
              "      <th>2</th>\n",
              "      <td>Great location! I have stayed at this hotel on...</td>\n",
              "      <td>20</td>\n",
              "      <td>106</td>\n",
              "      <td>4.00000</td>\n",
              "      <td>8</td>\n",
              "      <td>0.400000</td>\n",
              "    </tr>\n",
              "    <tr>\n",
              "      <th>4</th>\n",
              "      <td>Great location, room was large and spacious. P...</td>\n",
              "      <td>20</td>\n",
              "      <td>126</td>\n",
              "      <td>5.00000</td>\n",
              "      <td>7</td>\n",
              "      <td>0.350000</td>\n",
              "    </tr>\n",
              "    <tr>\n",
              "      <th>10</th>\n",
              "      <td>Very clean and friendly and I love the locatio...</td>\n",
              "      <td>40</td>\n",
              "      <td>238</td>\n",
              "      <td>4.80000</td>\n",
              "      <td>19</td>\n",
              "      <td>0.475000</td>\n",
              "    </tr>\n",
              "  </tbody>\n",
              "</table>\n",
              "</div>"
            ],
            "text/plain": [
              "                                               Review  ...  stopword_rate\n",
              "0   I was very impressed with the resort.\\n Great ...  ...       0.424242\n",
              "1   The rooms were nice the outside needs work als...  ...       0.400000\n",
              "2   Great location! I have stayed at this hotel on...  ...       0.400000\n",
              "4   Great location, room was large and spacious. P...  ...       0.350000\n",
              "10  Very clean and friendly and I love the locatio...  ...       0.475000\n",
              "\n",
              "[5 rows x 6 columns]"
            ]
          },
          "metadata": {},
          "execution_count": 28
        }
      ]
    },
    {
      "cell_type": "markdown",
      "metadata": {
        "id": "IGHUAAVLnKNX"
      },
      "source": [
        "Reviews with high stop words"
      ]
    },
    {
      "cell_type": "code",
      "metadata": {
        "colab": {
          "base_uri": "https://localhost:8080/",
          "height": 419
        },
        "id": "wgVWCyImnC_q",
        "outputId": "2b58d70a-9d48-4d4b-c69c-72378e838780"
      },
      "source": [
        "data.sort_values(by=\"stopword_rate\",ascending=False)"
      ],
      "execution_count": 30,
      "outputs": [
        {
          "output_type": "execute_result",
          "data": {
            "text/html": [
              "<div>\n",
              "<style scoped>\n",
              "    .dataframe tbody tr th:only-of-type {\n",
              "        vertical-align: middle;\n",
              "    }\n",
              "\n",
              "    .dataframe tbody tr th {\n",
              "        vertical-align: top;\n",
              "    }\n",
              "\n",
              "    .dataframe thead th {\n",
              "        text-align: right;\n",
              "    }\n",
              "</style>\n",
              "<table border=\"1\" class=\"dataframe\">\n",
              "  <thead>\n",
              "    <tr style=\"text-align: right;\">\n",
              "      <th></th>\n",
              "      <th>Review</th>\n",
              "      <th>word_count</th>\n",
              "      <th>char_count</th>\n",
              "      <th>average_wordcount</th>\n",
              "      <th>stopword_count</th>\n",
              "      <th>stopword_rate</th>\n",
              "    </tr>\n",
              "  </thead>\n",
              "  <tbody>\n",
              "    <tr>\n",
              "      <th>6267</th>\n",
              "      <td>·it was so close to what we were there for!\\n ...</td>\n",
              "      <td>11</td>\n",
              "      <td>61</td>\n",
              "      <td>3.818182</td>\n",
              "      <td>7</td>\n",
              "      <td>0.636364</td>\n",
              "    </tr>\n",
              "    <tr>\n",
              "      <th>1084</th>\n",
              "      <td>I like the location. It is close to the air po...</td>\n",
              "      <td>32</td>\n",
              "      <td>159</td>\n",
              "      <td>3.750000</td>\n",
              "      <td>19</td>\n",
              "      <td>0.593750</td>\n",
              "    </tr>\n",
              "    <tr>\n",
              "      <th>4553</th>\n",
              "      <td>property was partially under construction duri...</td>\n",
              "      <td>34</td>\n",
              "      <td>185</td>\n",
              "      <td>4.264706</td>\n",
              "      <td>20</td>\n",
              "      <td>0.588235</td>\n",
              "    </tr>\n",
              "    <tr>\n",
              "      <th>2404</th>\n",
              "      <td>The only thing we liked about the property was...</td>\n",
              "      <td>102</td>\n",
              "      <td>534</td>\n",
              "      <td>4.176471</td>\n",
              "      <td>60</td>\n",
              "      <td>0.588235</td>\n",
              "    </tr>\n",
              "    <tr>\n",
              "      <th>3517</th>\n",
              "      <td>There was no elevator, I have a mother who is ...</td>\n",
              "      <td>63</td>\n",
              "      <td>325</td>\n",
              "      <td>4.063492</td>\n",
              "      <td>37</td>\n",
              "      <td>0.587302</td>\n",
              "    </tr>\n",
              "    <tr>\n",
              "      <th>...</th>\n",
              "      <td>...</td>\n",
              "      <td>...</td>\n",
              "      <td>...</td>\n",
              "      <td>...</td>\n",
              "      <td>...</td>\n",
              "      <td>...</td>\n",
              "    </tr>\n",
              "    <tr>\n",
              "      <th>6345</th>\n",
              "      <td>·housekeeping staff\\n \\n \\n \\n \\n ·restaurant com</td>\n",
              "      <td>4</td>\n",
              "      <td>44</td>\n",
              "      <td>8.000000</td>\n",
              "      <td>0</td>\n",
              "      <td>0.000000</td>\n",
              "    </tr>\n",
              "    <tr>\n",
              "      <th>6365</th>\n",
              "      <td>·the bed</td>\n",
              "      <td>2</td>\n",
              "      <td>8</td>\n",
              "      <td>3.500000</td>\n",
              "      <td>0</td>\n",
              "      <td>0.000000</td>\n",
              "    </tr>\n",
              "    <tr>\n",
              "      <th>6379</th>\n",
              "      <td>·staff, cleanliness, price</td>\n",
              "      <td>3</td>\n",
              "      <td>26</td>\n",
              "      <td>8.000000</td>\n",
              "      <td>0</td>\n",
              "      <td>0.000000</td>\n",
              "    </tr>\n",
              "    <tr>\n",
              "      <th>6385</th>\n",
              "      <td>·no microwave</td>\n",
              "      <td>2</td>\n",
              "      <td>13</td>\n",
              "      <td>6.000000</td>\n",
              "      <td>0</td>\n",
              "      <td>0.000000</td>\n",
              "    </tr>\n",
              "    <tr>\n",
              "      <th>6333</th>\n",
              "      <td>·great rooms, great service, great value.</td>\n",
              "      <td>6</td>\n",
              "      <td>41</td>\n",
              "      <td>6.000000</td>\n",
              "      <td>0</td>\n",
              "      <td>0.000000</td>\n",
              "    </tr>\n",
              "  </tbody>\n",
              "</table>\n",
              "<p>1705 rows × 6 columns</p>\n",
              "</div>"
            ],
            "text/plain": [
              "                                                 Review  ...  stopword_rate\n",
              "6267  ·it was so close to what we were there for!\\n ...  ...       0.636364\n",
              "1084  I like the location. It is close to the air po...  ...       0.593750\n",
              "4553  property was partially under construction duri...  ...       0.588235\n",
              "2404  The only thing we liked about the property was...  ...       0.588235\n",
              "3517  There was no elevator, I have a mother who is ...  ...       0.587302\n",
              "...                                                 ...  ...            ...\n",
              "6345  ·housekeeping staff\\n \\n \\n \\n \\n ·restaurant com  ...       0.000000\n",
              "6365                                           ·the bed  ...       0.000000\n",
              "6379                         ·staff, cleanliness, price  ...       0.000000\n",
              "6385                                      ·no microwave  ...       0.000000\n",
              "6333          ·great rooms, great service, great value.  ...       0.000000\n",
              "\n",
              "[1705 rows x 6 columns]"
            ]
          },
          "metadata": {},
          "execution_count": 30
        }
      ]
    },
    {
      "cell_type": "markdown",
      "metadata": {
        "id": "iT7s3k5BprDN"
      },
      "source": [
        "summary of the data set"
      ]
    },
    {
      "cell_type": "code",
      "metadata": {
        "colab": {
          "base_uri": "https://localhost:8080/",
          "height": 297
        },
        "id": "DVRl2oKHnO-D",
        "outputId": "ce3353b1-7389-4713-9e0a-3bd0f311792e"
      },
      "source": [
        "data.describe()"
      ],
      "execution_count": 31,
      "outputs": [
        {
          "output_type": "execute_result",
          "data": {
            "text/html": [
              "<div>\n",
              "<style scoped>\n",
              "    .dataframe tbody tr th:only-of-type {\n",
              "        vertical-align: middle;\n",
              "    }\n",
              "\n",
              "    .dataframe tbody tr th {\n",
              "        vertical-align: top;\n",
              "    }\n",
              "\n",
              "    .dataframe thead th {\n",
              "        text-align: right;\n",
              "    }\n",
              "</style>\n",
              "<table border=\"1\" class=\"dataframe\">\n",
              "  <thead>\n",
              "    <tr style=\"text-align: right;\">\n",
              "      <th></th>\n",
              "      <th>word_count</th>\n",
              "      <th>char_count</th>\n",
              "      <th>average_wordcount</th>\n",
              "      <th>stopword_count</th>\n",
              "      <th>stopword_rate</th>\n",
              "    </tr>\n",
              "  </thead>\n",
              "  <tbody>\n",
              "    <tr>\n",
              "      <th>count</th>\n",
              "      <td>1705.000000</td>\n",
              "      <td>1705.000000</td>\n",
              "      <td>1705.000000</td>\n",
              "      <td>1705.000000</td>\n",
              "      <td>1705.000000</td>\n",
              "    </tr>\n",
              "    <tr>\n",
              "      <th>mean</th>\n",
              "      <td>44.531378</td>\n",
              "      <td>250.558944</td>\n",
              "      <td>4.772229</td>\n",
              "      <td>18.478592</td>\n",
              "      <td>0.369202</td>\n",
              "    </tr>\n",
              "    <tr>\n",
              "      <th>std</th>\n",
              "      <td>44.401263</td>\n",
              "      <td>234.884032</td>\n",
              "      <td>2.547305</td>\n",
              "      <td>22.331574</td>\n",
              "      <td>0.131761</td>\n",
              "    </tr>\n",
              "    <tr>\n",
              "      <th>min</th>\n",
              "      <td>1.000000</td>\n",
              "      <td>8.000000</td>\n",
              "      <td>2.947368</td>\n",
              "      <td>0.000000</td>\n",
              "      <td>0.000000</td>\n",
              "    </tr>\n",
              "    <tr>\n",
              "      <th>25%</th>\n",
              "      <td>18.000000</td>\n",
              "      <td>106.000000</td>\n",
              "      <td>4.228571</td>\n",
              "      <td>5.000000</td>\n",
              "      <td>0.300000</td>\n",
              "    </tr>\n",
              "    <tr>\n",
              "      <th>50%</th>\n",
              "      <td>28.000000</td>\n",
              "      <td>165.000000</td>\n",
              "      <td>4.534247</td>\n",
              "      <td>11.000000</td>\n",
              "      <td>0.400000</td>\n",
              "    </tr>\n",
              "    <tr>\n",
              "      <th>75%</th>\n",
              "      <td>55.000000</td>\n",
              "      <td>303.000000</td>\n",
              "      <td>4.916667</td>\n",
              "      <td>24.000000</td>\n",
              "      <td>0.466667</td>\n",
              "    </tr>\n",
              "    <tr>\n",
              "      <th>max</th>\n",
              "      <td>311.000000</td>\n",
              "      <td>1531.000000</td>\n",
              "      <td>65.200000</td>\n",
              "      <td>174.000000</td>\n",
              "      <td>0.636364</td>\n",
              "    </tr>\n",
              "  </tbody>\n",
              "</table>\n",
              "</div>"
            ],
            "text/plain": [
              "        word_count   char_count  ...  stopword_count  stopword_rate\n",
              "count  1705.000000  1705.000000  ...     1705.000000    1705.000000\n",
              "mean     44.531378   250.558944  ...       18.478592       0.369202\n",
              "std      44.401263   234.884032  ...       22.331574       0.131761\n",
              "min       1.000000     8.000000  ...        0.000000       0.000000\n",
              "25%      18.000000   106.000000  ...        5.000000       0.300000\n",
              "50%      28.000000   165.000000  ...       11.000000       0.400000\n",
              "75%      55.000000   303.000000  ...       24.000000       0.466667\n",
              "max     311.000000  1531.000000  ...      174.000000       0.636364\n",
              "\n",
              "[8 rows x 5 columns]"
            ]
          },
          "metadata": {},
          "execution_count": 31
        }
      ]
    },
    {
      "cell_type": "code",
      "metadata": {
        "id": "cQ2XGuuxpg5t"
      },
      "source": [
        ""
      ],
      "execution_count": null,
      "outputs": []
    }
  ]
}